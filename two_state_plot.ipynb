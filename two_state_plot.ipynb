{
  "nbformat": 4,
  "nbformat_minor": 0,
  "metadata": {
    "colab": {
      "name": "two_state_plot.ipynb",
      "version": "0.3.2",
      "provenance": [],
      "collapsed_sections": [],
      "include_colab_link": true
    },
    "kernelspec": {
      "name": "python3",
      "display_name": "Python 3"
    }
  },
  "cells": [
    {
      "cell_type": "markdown",
      "metadata": {
        "id": "view-in-github",
        "colab_type": "text"
      },
      "source": [
        "<a href=\"https://colab.research.google.com/github/grkidwell/buckwaveforms/blob/master/two_state_plot.ipynb\" target=\"_parent\"><img src=\"https://colab.research.google.com/assets/colab-badge.svg\" alt=\"Open In Colab\"/></a>"
      ]
    },
    {
      "metadata": {
        "trusted": true,
        "id": "svvJ8KZqakGT",
        "colab_type": "code",
        "colab": {}
      },
      "cell_type": "code",
      "source": [
        "import matplotlib.pyplot as plt\n",
        "import sys\n"
      ],
      "execution_count": 0,
      "outputs": []
    },
    {
      "metadata": {
        "id": "-Bz1GRx6bMNd",
        "colab_type": "code",
        "outputId": "965f148e-2329-4f1f-f576-05dc6cf039cf",
        "colab": {
          "base_uri": "https://localhost:8080/",
          "height": 122
        }
      },
      "cell_type": "code",
      "source": [
        "!rm -r buckwaveforms\n",
        "!git clone https://github.com/grkidwell/buckwaveforms.git\n",
        "sys.path.append('buckwaveforms')"
      ],
      "execution_count": 2,
      "outputs": [
        {
          "output_type": "stream",
          "text": [
            "Cloning into 'buckwaveforms'...\n",
            "remote: Enumerating objects: 37, done.\u001b[K\n",
            "remote: Counting objects:   2% (1/37)   \u001b[K\rremote: Counting objects:   5% (2/37)   \u001b[K\rremote: Counting objects:   8% (3/37)   \u001b[K\rremote: Counting objects:  10% (4/37)   \u001b[K\rremote: Counting objects:  13% (5/37)   \u001b[K\rremote: Counting objects:  16% (6/37)   \u001b[K\rremote: Counting objects:  18% (7/37)   \u001b[K\rremote: Counting objects:  21% (8/37)   \u001b[K\rremote: Counting objects:  24% (9/37)   \u001b[K\rremote: Counting objects:  27% (10/37)   \u001b[K\rremote: Counting objects:  29% (11/37)   \u001b[K\rremote: Counting objects:  32% (12/37)   \u001b[K\rremote: Counting objects:  35% (13/37)   \u001b[K\rremote: Counting objects:  37% (14/37)   \u001b[K\rremote: Counting objects:  40% (15/37)   \u001b[K\rremote: Counting objects:  43% (16/37)   \u001b[K\rremote: Counting objects:  45% (17/37)   \u001b[K\rremote: Counting objects:  48% (18/37)   \u001b[K\rremote: Counting objects:  51% (19/37)   \u001b[K\rremote: Counting objects:  54% (20/37)   \u001b[K\rremote: Counting objects:  56% (21/37)   \u001b[K\rremote: Counting objects:  59% (22/37)   \u001b[K\rremote: Counting objects:  62% (23/37)   \u001b[K\rremote: Counting objects:  64% (24/37)   \u001b[K\rremote: Counting objects:  67% (25/37)   \u001b[K\rremote: Counting objects:  70% (26/37)   \u001b[K\rremote: Counting objects:  72% (27/37)   \u001b[K\rremote: Counting objects:  75% (28/37)   \u001b[K\rremote: Counting objects:  78% (29/37)   \u001b[K\rremote: Counting objects:  81% (30/37)   \u001b[K\rremote: Counting objects:  83% (31/37)   \u001b[K\rremote: Counting objects:  86% (32/37)   \u001b[K\rremote: Counting objects:  89% (33/37)   \u001b[K\rremote: Counting objects:  91% (34/37)   \u001b[K\rremote: Counting objects:  94% (35/37)   \u001b[K\rremote: Counting objects:  97% (36/37)   \u001b[K\rremote: Counting objects: 100% (37/37)   \u001b[K\rremote: Counting objects: 100% (37/37), done.\u001b[K\n",
            "remote: Compressing objects:   2% (1/37)   \u001b[K\rremote: Compressing objects:   5% (2/37)   \u001b[K\rremote: Compressing objects:   8% (3/37)   \u001b[K\rremote: Compressing objects:  10% (4/37)   \u001b[K\rremote: Compressing objects:  13% (5/37)   \u001b[K\rremote: Compressing objects:  16% (6/37)   \u001b[K\rremote: Compressing objects:  18% (7/37)   \u001b[K\rremote: Compressing objects:  21% (8/37)   \u001b[K\rremote: Compressing objects:  24% (9/37)   \u001b[K\rremote: Compressing objects:  27% (10/37)   \u001b[K\rremote: Compressing objects:  29% (11/37)   \u001b[K\rremote: Compressing objects:  32% (12/37)   \u001b[K\rremote: Compressing objects:  35% (13/37)   \u001b[K\rremote: Compressing objects:  37% (14/37)   \u001b[K\rremote: Compressing objects:  40% (15/37)   \u001b[K\rremote: Compressing objects:  43% (16/37)   \u001b[K\rremote: Compressing objects:  45% (17/37)   \u001b[K\rremote: Compressing objects:  48% (18/37)   \u001b[K\rremote: Compressing objects:  51% (19/37)   \u001b[K\rremote: Compressing objects:  54% (20/37)   \u001b[K\rremote: Compressing objects:  56% (21/37)   \u001b[K\rremote: Compressing objects:  59% (22/37)   \u001b[K\rremote: Compressing objects:  62% (23/37)   \u001b[K\rremote: Compressing objects:  64% (24/37)   \u001b[K\rremote: Compressing objects:  67% (25/37)   \u001b[K\rremote: Compressing objects:  70% (26/37)   \u001b[K\rremote: Compressing objects:  72% (27/37)   \u001b[K\rremote: Compressing objects:  75% (28/37)   \u001b[K\rremote: Compressing objects:  78% (29/37)   \u001b[K\rremote: Compressing objects:  81% (30/37)   \u001b[K\rremote: Compressing objects:  83% (31/37)   \u001b[K\rremote: Compressing objects:  86% (32/37)   \u001b[K\rremote: Compressing objects:  89% (33/37)   \u001b[K\rremote: Compressing objects:  91% (34/37)   \u001b[K\rremote: Compressing objects:  94% (35/37)   \u001b[K\rremote: Compressing objects:  97% (36/37)   \u001b[K\rremote: Compressing objects: 100% (37/37)   \u001b[K\rremote: Compressing objects: 100% (37/37), done.\u001b[K\n",
            "Unpacking objects:   2% (1/50)   \rUnpacking objects:   4% (2/50)   \rUnpacking objects:   6% (3/50)   \rUnpacking objects:   8% (4/50)   \rUnpacking objects:  10% (5/50)   \rUnpacking objects:  12% (6/50)   \rUnpacking objects:  14% (7/50)   \rUnpacking objects:  16% (8/50)   \rUnpacking objects:  18% (9/50)   \rUnpacking objects:  20% (10/50)   \rUnpacking objects:  22% (11/50)   \rUnpacking objects:  24% (12/50)   \rUnpacking objects:  26% (13/50)   \rUnpacking objects:  28% (14/50)   \rUnpacking objects:  30% (15/50)   \rUnpacking objects:  32% (16/50)   \rUnpacking objects:  34% (17/50)   \rUnpacking objects:  36% (18/50)   \rUnpacking objects:  38% (19/50)   \rUnpacking objects:  40% (20/50)   \rUnpacking objects:  42% (21/50)   \rUnpacking objects:  44% (22/50)   \rUnpacking objects:  46% (23/50)   \rUnpacking objects:  48% (24/50)   \rUnpacking objects:  50% (25/50)   \rUnpacking objects:  52% (26/50)   \rUnpacking objects:  54% (27/50)   \rUnpacking objects:  56% (28/50)   \rremote: Total 50 (delta 18), reused 0 (delta 0), pack-reused 13\u001b[K\n",
            "Unpacking objects:  58% (29/50)   \rUnpacking objects:  60% (30/50)   \rUnpacking objects:  62% (31/50)   \rUnpacking objects:  64% (32/50)   \rUnpacking objects:  66% (33/50)   \rUnpacking objects:  68% (34/50)   \rUnpacking objects:  70% (35/50)   \rUnpacking objects:  72% (36/50)   \rUnpacking objects:  74% (37/50)   \rUnpacking objects:  76% (38/50)   \rUnpacking objects:  78% (39/50)   \rUnpacking objects:  80% (40/50)   \rUnpacking objects:  82% (41/50)   \rUnpacking objects:  84% (42/50)   \rUnpacking objects:  86% (43/50)   \rUnpacking objects:  88% (44/50)   \rUnpacking objects:  90% (45/50)   \rUnpacking objects:  92% (46/50)   \rUnpacking objects:  94% (47/50)   \rUnpacking objects:  96% (48/50)   \rUnpacking objects:  98% (49/50)   \rUnpacking objects: 100% (50/50)   \rUnpacking objects: 100% (50/50), done.\n"
          ],
          "name": "stdout"
        }
      ]
    },
    {
      "metadata": {
        "id": "TJQWrjPgkWdA",
        "colab_type": "code",
        "colab": {}
      },
      "cell_type": "code",
      "source": [
        "import twostate as ts"
      ],
      "execution_count": 0,
      "outputs": []
    },
    {
      "metadata": {
        "trusted": true,
        "id": "UWjkYIx1akGm",
        "colab_type": "code",
        "colab": {}
      },
      "cell_type": "code",
      "source": [
        "def main():\n",
        "    t1=10\n",
        "    t2=30\n",
        "    period=t1+t2\n",
        "    timewindow=2*period\n",
        "    time=range(timewindow)\n",
        "    pulses=ts.Two_state(t1,t2)\n",
        "    red=pulses.t1_pulse_train(timewindow)\n",
        "    blue=pulses.t2_pulse_train(timewindow)\n",
        "    plt.subplot(211)\n",
        "    plt.plot(time,red,color='red')\n",
        "    plt.subplot(212)\n",
        "    plt.plot(time,blue,color='blue')\n",
        "    both=red+blue\n",
        "    plt.plot(time,red)\n",
        "    "
      ],
      "execution_count": 0,
      "outputs": []
    },
    {
      "metadata": {
        "trusted": true,
        "id": "OPBcDTqOakGr",
        "colab_type": "code",
        "colab": {
          "base_uri": "https://localhost:8080/",
          "height": 269
        },
        "outputId": "6508eece-2928-4b83-ac86-460a7a468236"
      },
      "cell_type": "code",
      "source": [
        "if __name__==\"__main__\":\n",
        "    main()"
      ],
      "execution_count": 14,
      "outputs": [
        {
          "output_type": "display_data",
          "data": {
            "image/png": "[encoded data removed]",
            "text/plain": [
              "<Figure size 432x288 with 2 Axes>"
            ]
          },
          "metadata": {
            "tags": []
          }
        }
      ]
    },
    {
      "metadata": {
        "trusted": true,
        "id": "8hAK6V6rakGx",
        "colab_type": "code",
        "colab": {
          "base_uri": "https://localhost:8080/",
          "height": 185
        },
        "outputId": "14cecac0-b3ea-4776-af78-24fe5614ae8b"
      },
      "cell_type": "code",
      "source": [
        ""
      ],
      "execution_count": 10,
      "outputs": [
        {
          "output_type": "error",
          "ename": "NameError",
          "evalue": "ignored",
          "traceback": [
            "\u001b[0;31m---------------------------------------------------------------------------\u001b[0m",
            "\u001b[0;31mNameError\u001b[0m                                 Traceback (most recent call last)",
            "\u001b[0;32m<ipython-input-10-2aa861ae0960>\u001b[0m in \u001b[0;36m<module>\u001b[0;34m()\u001b[0m\n\u001b[0;32m----> 1\u001b[0;31m \u001b[0mboth\u001b[0m\u001b[0;34m=\u001b[0m\u001b[0mred\u001b[0m\u001b[0;34m+\u001b[0m\u001b[0mblue\u001b[0m\u001b[0;34m\u001b[0m\u001b[0;34m\u001b[0m\u001b[0m\n\u001b[0m\u001b[1;32m      2\u001b[0m \u001b[0mplt\u001b[0m\u001b[0;34m.\u001b[0m\u001b[0mplot\u001b[0m\u001b[0;34m(\u001b[0m\u001b[0mtime\u001b[0m\u001b[0;34m,\u001b[0m\u001b[0mboth\u001b[0m\u001b[0;34m)\u001b[0m\u001b[0;34m\u001b[0m\u001b[0;34m\u001b[0m\u001b[0m\n",
            "\u001b[0;31mNameError\u001b[0m: name 'red' is not defined"
          ]
        }
      ]
    },
    {
      "metadata": {
        "id": "dK44jUKRRhqr",
        "colab_type": "code",
        "colab": {}
      },
      "cell_type": "code",
      "source": [
        ""
      ],
      "execution_count": 0,
      "outputs": []
    }
  ]
}