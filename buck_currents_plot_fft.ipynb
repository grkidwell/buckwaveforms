{
 "cells": [
  {
   "cell_type": "code",
   "execution_count": 1,
   "id": "7715c744-e4b0-4229-a19c-8a129fb0e0ff",
   "metadata": {},
   "outputs": [],
   "source": [
    "from buck_currents_fft import Iinp_FFT"
   ]
  },
  {
   "cell_type": "code",
   "execution_count": 2,
   "id": "69457759-ee48-4ce5-a27b-3931cbe4c942",
   "metadata": {},
   "outputs": [],
   "source": [
    "input_params = {'Vin'  : 20,\n",
    "                'Vout' : 6,\n",
    "                'Iout' : 10,\n",
    "                'Fs'   : 1.0e6,\n",
    "                'Lout' : 1e-6,\n",
    "                'Level': '3level'\n",
    "               }"
   ]
  },
  {
   "cell_type": "code",
   "execution_count": 3,
   "id": "5644e18c-46dc-4300-ab9c-208a6fc7745c",
   "metadata": {},
   "outputs": [],
   "source": [
    "iinp = Iinp_FFT(**input_params)"
   ]
  },
  {
   "cell_type": "code",
   "execution_count": 4,
   "id": "7b00ecc2-c115-41da-89f5-03694cf41d8e",
   "metadata": {},
   "outputs": [
    {
     "data": {
      "image/png": "[encoded data removed]",
      "text/plain": [
       "<Figure size 800x400 with 1 Axes>"
      ]
     },
     "metadata": {},
     "output_type": "display_data"
    }
   ],
   "source": [
    "iinp.plot_i_zin_fft()"
   ]
  },
  {
   "cell_type": "code",
   "execution_count": null,
   "id": "5910e828-ea41-4b1e-9469-849063510c44",
   "metadata": {},
   "outputs": [],
   "source": []
  }
 ],
 "metadata": {
  "kernelspec": {
   "display_name": "Python 3 (ipykernel)",
   "language": "python",
   "name": "python3"
  },
  "language_info": {
   "codemirror_mode": {
    "name": "ipython",
    "version": 3
   },
   "file_extension": ".py",
   "mimetype": "text/x-python",
   "name": "python",
   "nbconvert_exporter": "python",
   "pygments_lexer": "ipython3",
   "version": "3.10.2"
  }
 },
 "nbformat": 4,
 "nbformat_minor": 5
}
